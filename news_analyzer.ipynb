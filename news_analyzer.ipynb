{
 "cells": [
  {
   "cell_type": "code",
   "execution_count": 20,
   "metadata": {},
   "outputs": [],
   "source": [
    "from analyze_news import analyze_news\n",
    "from utils.analysis.analyzer import get_llm\n",
    "from dotenv import load_dotenv\n",
    "import json\n",
    "from tqdm import tqdm\n",
    "from langchain.docstore.document import Document\n",
    "from langchain_chroma import Chroma\n",
    "from nltk.tokenize import sent_tokenize\n",
    "from langchain_core.prompts import PromptTemplate\n",
    "from langchain_core.runnables import RunnablePassthrough\n"
   ]
  },
  {
   "cell_type": "code",
   "execution_count": 3,
   "metadata": {},
   "outputs": [
    {
     "data": {
      "text/plain": [
       "True"
      ]
     },
     "execution_count": 3,
     "metadata": {},
     "output_type": "execute_result"
    }
   ],
   "source": [
    "env_path = '.env'\n",
    "load_dotenv(dotenv_path=env_path)"
   ]
  },
  {
   "cell_type": "code",
   "execution_count": 90,
   "metadata": {},
   "outputs": [],
   "source": [
    "def chunker(text: str, chunk_size: int = 3):\n",
    "    sentences = sent_tokenize(text)\n",
    "    \n",
    "    # Create chunks of chunk_size number of sentences\n",
    "    chunks = []\n",
    "    for i in range(0, len(sentences), chunk_size):\n",
    "        chunk = ' '.join(sentences[i:i + chunk_size])\n",
    "        chunks.append(chunk)\n",
    "        \n",
    "    return chunks\n",
    "\n",
    "def create_vec_db(chunks: list):\n",
    "    documents = [Document(page_content=chunk) for chunk in chunks]\n",
    "    vec_db = Chroma.from_documents(documents)\n",
    "\n",
    "    return vec_db\n",
    "\n",
    "def do_ner(text: str):\n",
    "    template = \"\"\"\n",
    "        You are an expert in Named Entity Recognition (NER). Your task is to identify and mark entities in the given text without changing or omitting any part of the original text. The possible entities are: [organization, person, location]\n",
    "\n",
    "        Instructions:\n",
    "        1. Read the input text carefully.\n",
    "        2. Identify all instances of organizations, persons, and locations.\n",
    "        3. Mark each entity by placing its category in parentheses immediately after the entity name.\n",
    "        4. Do not change, rephrase, or omit any part of the original text.\n",
    "        5. If a sentence doesn't contain any of the specified entities, return it unchanged.\n",
    "        6. Process the entire input text, sentence by sentence.\n",
    "\n",
    "        Example:\n",
    "        Input: \"The natural biomolecules, available in liquid form, is administered to plants and is a targeted intervention during the plant's growth, aimed to prevent any kind of crop loss. (File Express photo) The rising instances of untimely or heavy rainfall, and fluctuating temperatures are among the weather vagaries that have plagued Indian farmers in recent times. Such inclement weather not only damages standing crops but also severely hampers seasonal yield, affecting their overall farm income. In order to help farmers better deal with the impact of changing weather, city-based Bioprime Agrisolutions has developed environment-friendly bio-molecules capable of making the crops more climate resilient.\"\n",
    "\n",
    "        Output:\n",
    "        \"The natural biomolecules, available in liquid form, is administered to plants and is a targeted intervention during the plant's growth, aimed to prevent any kind of crop loss. (File Express photo) The rising instances of untimely or heavy rainfall, and fluctuating temperatures are among the weather vagaries that have plagued Indian (location) farmers in recent times. Such inclement weather not only damages standing crops but also severely hampers seasonal yield, affecting their overall farm income. In order to help farmers better deal with the impact of changing weather, city-based Bioprime Agrisolutions (organization) has developed environment-friendly bio-molecules capable of making the crops more climate resilient.\"\n",
    "\n",
    "        Now, process the following text:\n",
    "        {text}\n",
    "    \"\"\"\n",
    "    prompt = PromptTemplate.from_template(template)\n",
    "    llm = get_llm()\n",
    "\n",
    "    llm_chain = (\n",
    "        {\"text\": RunnablePassthrough()} |\n",
    "        prompt |\n",
    "        llm\n",
    "    )\n",
    "\n",
    "    response = llm_chain.invoke(text)\n",
    "    return response\n",
    "\n",
    "def do_classification(text: str):\n",
    "    template = \"\"\"\n",
    "        You are an expert in text classification. Your task is to classify the given text into one of the following categories: \n",
    "        1. actor - affects (positive / negative) - object \n",
    "        2. object - affected_by (positive / negative) - actor\n",
    "        3. actor - affects (positive / negative) - actor\n",
    "        4. actor - affected_by (positive / negative) - actor \n",
    "\n",
    "    Now, classify the following text:\n",
    "    {text}\n",
    "    \"\"\"\n",
    "    prompt = PromptTemplate.from_template(template)\n",
    "    llm = get_llm()\n",
    "\n",
    "    llm_chain = (\n",
    "        {\"text\": RunnablePassthrough()} |\n",
    "        prompt |\n",
    "        llm\n",
    "    )\n",
    "\n",
    "    response = llm_chain.invoke(text)\n",
    "    return response.content"
   ]
  },
  {
   "cell_type": "code",
   "execution_count": 76,
   "metadata": {},
   "outputs": [],
   "source": [
    "with open(\"agriculture_news.json\", \"r\") as f:\n",
    "    news = json.load(f)\n",
    "\n",
    "with open(\"../dev/full_news_1.json\", \"r\") as f:\n",
    "    full_news = json.load(f)\n",
    "\n",
    "news_ = news[5]\n",
    "text = full_news[news_['news_idx']]['article']"
   ]
  },
  {
   "cell_type": "code",
   "execution_count": 84,
   "metadata": {},
   "outputs": [],
   "source": [
    "ner = do_ner(text)\n",
    "chunks = chunker(ner.content)"
   ]
  },
  {
   "cell_type": "code",
   "execution_count": 85,
   "metadata": {},
   "outputs": [
    {
     "data": {
      "text/plain": [
       "['Doppler radars at Kufri (location) and (right) Mukteshwar (location). (Courtesy: IMD)\\nUnion Minister for Earth Sciences Dr Harsh Vardhan (person) Friday commissioned two of the ten indigenously built Doppler weather radars which will closely monitor the weather changes over the Himalayas. Services of X-band Doppler radars at Mukteshwar (location) in Uttarakhand (location) and Kufri (location) in Himachal Pradesh (location) were virtually inaugurated on the 146th foundation day of the India Meteorological Department (IMD) (organization) on Friday.',\n",
       " 'Covering the central and western Himalayas (location), these dual polarised radars will gather atmospheric variations and pick signals of extreme weather events, IMD (organization) officials said. During the month ahead, the Met department has planned to install ten radars over the Himalayas (location). Both Uttarakhand (location) and Himachal Pradesh (location) are highly prone to cloud bursts, landslides, heavy rain and snowfall.',\n",
       " 'Timely weather forecasts and warnings would ensure the governments make advance plans and initiate rescue measures, state officials said. Uttarakhand (location) Chief Minister Trivendra Singh Rawat (person) said, “Being a hilly terrain that receives over 1,100 mm rainfall annually, the state faces numerous hardships due to different kinds of severe weather. We have experienced the benefits of receiving IMD’s forecasts.',\n",
       " 'With three more Doppler radars getting installed, we hope to be better prepared for severe weather events in future and minimise all kinds of losses.”\\nHimachal Pradesh (location) Chief Minister Jai Ram Thakur (person) said, “Weather and climate play a significant role in both agriculture and tourism — the two main sectors contributing towards the state’s economy.”\\nSpeaking on the occasion, Dr Harsh Vardhan (person) said, “From just 13 radars in 2013, the country now has 29 radars operational. This will strengthen IMD’s forecasts further.”\\nFrom being allotted Rs 20 crore annually until a few years ago, the IMD (organization) now gets Rs 200 crore, said M Rajeevan (person), Secretary, Ministry of Earth Sciences (MoES), which has greatly helped in augmenting the overall weather services over the country. “The IMD (organization) must now utilise the latest digital technology and work towards developing mobile-friendly weather applications, especially in regional languages,” Rajeevan (person) added.',\n",
       " 'Mrutyunjay Mohapatra (person), director general, IMD (organization), said the Met department will strive to detect every severe weather event, issue advance forecasts and warnings and work towards minimising losses. A joint venture with the Indian Space Research Organisation (ISRO) (organization), the Union minister launched a Multi-Mission Meteorological Data Receiving and Processing System. This new system will capture, process and make available for use satellite data within seven minutes as opposed to 20 minutes taken by earlier systems.']"
      ]
     },
     "execution_count": 85,
     "metadata": {},
     "output_type": "execute_result"
    }
   ],
   "source": [
    "chunks"
   ]
  },
  {
   "cell_type": "code",
   "execution_count": 91,
   "metadata": {},
   "outputs": [
    {
     "name": "stdout",
     "output_type": "stream",
     "text": [
      "Object - affected_by (positive) - actor\n",
      "\n",
      "Explanation:\n",
      "The text describes the Doppler radars at Kufri and Mukteshwar being commissioned and inaugurated by Union Minister for Earth Sciences Dr Harsh Vardhan. Therefore, the object (Doppler radars) is being affected positively by the actor (Union Minister for Earth Sciences Dr Harsh Vardhan).\n"
     ]
    }
   ],
   "source": [
    "classification = do_classification(chunks[0])\n",
    "print(classification)"
   ]
  }
 ],
 "metadata": {
  "kernelspec": {
   "display_name": "nlp_ra",
   "language": "python",
   "name": "python3"
  },
  "language_info": {
   "codemirror_mode": {
    "name": "ipython",
    "version": 3
   },
   "file_extension": ".py",
   "mimetype": "text/x-python",
   "name": "python",
   "nbconvert_exporter": "python",
   "pygments_lexer": "ipython3",
   "version": "3.12.0"
  }
 },
 "nbformat": 4,
 "nbformat_minor": 2
}
